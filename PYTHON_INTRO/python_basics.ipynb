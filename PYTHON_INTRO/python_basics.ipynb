{
 "cells": [
  {
   "cell_type": "code",
   "execution_count": 224,
   "metadata": {},
   "outputs": [],
   "source": [
    "#casting the data type values of varibles\n",
    "a=float(3)#type float\n",
    "b=bool(5>2)#type boolean\n"
   ]
  },
  {
   "cell_type": "code",
   "execution_count": 225,
   "metadata": {},
   "outputs": [],
   "source": [
    "#snake case variable\n",
    "my_Name_Is = \"JUMA\""
   ]
  },
  {
   "cell_type": "code",
   "execution_count": 226,
   "metadata": {},
   "outputs": [
    {
     "name": "stdout",
     "output_type": "stream",
     "text": [
      "orange\n",
      "1\n",
      "400.0\n"
     ]
    }
   ],
   "source": [
    "#assigning many values to multiple varibles\n",
    "p,q,r = \"orange\", 1 , float(400) \n",
    "print(p)\n",
    "print(q)\n",
    "print(r)"
   ]
  },
  {
   "cell_type": "code",
   "execution_count": 227,
   "metadata": {},
   "outputs": [],
   "source": [
    "#one value to multiple variables\n",
    "o=i=u = \"AM I A PROGRAMMER\"\n"
   ]
  },
  {
   "cell_type": "code",
   "execution_count": 228,
   "metadata": {},
   "outputs": [
    {
     "data": {
      "text/plain": [
       "'Hello,World'"
      ]
     },
     "execution_count": 228,
     "metadata": {},
     "output_type": "execute_result"
    }
   ],
   "source": [
    "#this is assignemnt \n",
    "x=5 #this is type int \n",
    "#assining x with a new value to see what the output will be\n",
    "y=\"Hello,World\"#this is type String\n",
    "y"
   ]
  },
  {
   "cell_type": "code",
   "execution_count": 229,
   "metadata": {},
   "outputs": [
    {
     "data": {
      "text/plain": [
       "['one', 'two', 'three']"
      ]
     },
     "execution_count": 229,
     "metadata": {},
     "output_type": "execute_result"
    }
   ],
   "source": [
    "#creating a list\n",
    "myList = ['one','two','three']\n",
    "myList"
   ]
  },
  {
   "cell_type": "code",
   "execution_count": 230,
   "metadata": {},
   "outputs": [
    {
     "name": "stdout",
     "output_type": "stream",
     "text": [
      "1\n"
     ]
    }
   ],
   "source": [
    "#counting number of elements\n",
    "qw=myList.count(\"two\")\n",
    "print(qw)"
   ]
  },
  {
   "cell_type": "code",
   "execution_count": 231,
   "metadata": {},
   "outputs": [
    {
     "data": {
      "text/plain": [
       "['Ford', 'Mercedez', 'Isuzu']"
      ]
     },
     "execution_count": 231,
     "metadata": {},
     "output_type": "execute_result"
    }
   ],
   "source": [
    "#creating a new list\n",
    "carList = ['Ford','Mercedez','Isuzu']\n",
    "carList"
   ]
  },
  {
   "cell_type": "code",
   "execution_count": 232,
   "metadata": {},
   "outputs": [
    {
     "name": "stdout",
     "output_type": "stream",
     "text": [
      "['Ford', 'Mercedez', 'Isuzu', 'one', 'two', 'three']\n"
     ]
    }
   ],
   "source": [
    "carList.extend(myList)#extending carList to myList\n",
    "print(carList)"
   ]
  },
  {
   "cell_type": "code",
   "execution_count": 233,
   "metadata": {},
   "outputs": [
    {
     "data": {
      "text/plain": [
       "['Ford', 'Mercedez', 'Isuzu', 'one', 'two', 'three', 'Suzuki']"
      ]
     },
     "execution_count": 233,
     "metadata": {},
     "output_type": "execute_result"
    }
   ],
   "source": [
    "#appeping suzuki\n",
    "carList.append(\"Suzuki\")\n",
    "carList"
   ]
  },
  {
   "cell_type": "code",
   "execution_count": 234,
   "metadata": {},
   "outputs": [
    {
     "data": {
      "text/plain": [
       "['three', 'two', 'one']"
      ]
     },
     "execution_count": 234,
     "metadata": {},
     "output_type": "execute_result"
    }
   ],
   "source": [
    "myList.reverse()#reversing the order of the values of mylist\n",
    "myList"
   ]
  },
  {
   "cell_type": "code",
   "execution_count": 235,
   "metadata": {},
   "outputs": [
    {
     "data": {
      "text/plain": [
       "2"
      ]
     },
     "execution_count": 235,
     "metadata": {},
     "output_type": "execute_result"
    }
   ],
   "source": [
    "x=myList.index(\"one\")\n",
    "x"
   ]
  },
  {
   "cell_type": "code",
   "execution_count": 236,
   "metadata": {},
   "outputs": [
    {
     "name": "stdout",
     "output_type": "stream",
     "text": [
      "None\n"
     ]
    }
   ],
   "source": [
    "y=myList.insert(2,\"Replaced\")\n",
    "print(y)"
   ]
  },
  {
   "cell_type": "code",
   "execution_count": 237,
   "metadata": {},
   "outputs": [
    {
     "data": {
      "text/plain": [
       "['Replaced', 'one', 'three', 'two']"
      ]
     },
     "execution_count": 237,
     "metadata": {},
     "output_type": "execute_result"
    }
   ],
   "source": [
    "myList.sort()#sorting the myList\n",
    "myList"
   ]
  },
  {
   "cell_type": "code",
   "execution_count": 238,
   "metadata": {},
   "outputs": [
    {
     "data": {
      "text/plain": [
       "['Replaced', 'three', 'two']"
      ]
     },
     "execution_count": 238,
     "metadata": {},
     "output_type": "execute_result"
    }
   ],
   "source": [
    "myList.pop(1)#popping second variable\n",
    "myList"
   ]
  },
  {
   "cell_type": "code",
   "execution_count": 239,
   "metadata": {},
   "outputs": [
    {
     "data": {
      "text/plain": [
       "[]"
      ]
     },
     "execution_count": 239,
     "metadata": {},
     "output_type": "execute_result"
    }
   ],
   "source": [
    "myList.clear()#clearing the list\n",
    "myList"
   ]
  },
  {
   "cell_type": "code",
   "execution_count": 240,
   "metadata": {},
   "outputs": [
    {
     "name": "stdout",
     "output_type": "stream",
     "text": [
      "orange\n",
      "False\n",
      "1\n"
     ]
    }
   ],
   "source": [
    "#unpacking list\n",
    "fruits = [\"orange\" , bool(6>20) , 1]#packing list\n",
    "l,m,n = fruits\n",
    "print(l)\n",
    "print(m)\n",
    "print(n)"
   ]
  },
  {
   "cell_type": "code",
   "execution_count": 241,
   "metadata": {},
   "outputs": [
    {
     "name": "stdout",
     "output_type": "stream",
     "text": [
      "five is greater than two\n",
      "hallo  world\n"
     ]
    }
   ],
   "source": [
    "#printing strings \n",
    "print(\"five is greater than two\")\n",
    "print(\"hallo  world\")\n"
   ]
  },
  {
   "cell_type": "code",
   "execution_count": 242,
   "metadata": {},
   "outputs": [
    {
     "name": "stdout",
     "output_type": "stream",
     "text": [
      "('apple', 'banana', 'cherry')\n",
      "3\n",
      "\n",
      "\n",
      "('apple', 1, True)\n",
      "<class 'tuple'>\n"
     ]
    }
   ],
   "source": [
    "#dealing with TUPLES\n",
    "myTuple = (\"apple\",\"banana\",\"cherry\")\n",
    "print(myTuple)\n",
    "print(len(myTuple))\n",
    "\n",
    "print(\"\\n\")\n",
    "thisTuple=(\"apple\",1,True)#tuple with different data type of values\n",
    "print(thisTuple)\n",
    "print(type(thisTuple))"
   ]
  },
  {
   "cell_type": "code",
   "execution_count": 243,
   "metadata": {},
   "outputs": [
    {
     "name": "stdout",
     "output_type": "stream",
     "text": [
      "('apple', 'banana', 'cherry', 'berry')\n"
     ]
    }
   ],
   "source": [
    "#tuple constructor\n",
    "thisTuple = tuple((\"apple\",\"banana\",\"cherry\",\"berry\"))\n",
    "print(thisTuple)"
   ]
  },
  {
   "cell_type": "code",
   "execution_count": 244,
   "metadata": {},
   "outputs": [
    {
     "name": "stdout",
     "output_type": "stream",
     "text": [
      "cherry\n",
      "banana\n",
      "('apple', 'banana')\n",
      "('cherry', 'berry')\n"
     ]
    }
   ],
   "source": [
    "#accessing tuple items\n",
    "print(thisTuple[2])#accessing the second item in the tuple\n",
    "print(thisTuple[-3])#accessing the second last item in the tuple\n",
    "print(thisTuple[0:2])#selecting range of tuples: index 0 included but index 2 not included\n",
    "print(thisTuple[2:])#prints all values from index 2 to the end\n"
   ]
  },
  {
   "cell_type": "code",
   "execution_count": 245,
   "metadata": {},
   "outputs": [
    {
     "name": "stdout",
     "output_type": "stream",
     "text": [
      "RANGE OF NEGATIVE INDEXES\n",
      "('orange', 'kiwi', 'melon')\n",
      "()\n"
     ]
    }
   ],
   "source": [
    "#range of negative indexes \n",
    "print(\"RANGE OF NEGATIVE INDEXES\")\n",
    "thisTuple = tuple((\"apple\", \"banana\", \"cherry\", \"orange\", \"kiwi\", \"melon\", \"mango\"))\n",
    "print(thisTuple[-4:-1])\n",
    "print(thisTuple[-1:-4])#this order does not exist since tuples are unchangeable\n"
   ]
  },
  {
   "cell_type": "code",
   "execution_count": 246,
   "metadata": {},
   "outputs": [
    {
     "name": "stdout",
     "output_type": "stream",
     "text": [
      "yes,'banana' is in the fruits tuple\n"
     ]
    }
   ],
   "source": [
    "#checking in an item exists in a tuple\n",
    "if \"cherry\" in thisTuple:\n",
    "    print(\"yes,'banana' is in the fruits tuple\")\n"
   ]
  },
  {
   "cell_type": "code",
   "execution_count": 247,
   "metadata": {},
   "outputs": [
    {
     "name": "stdout",
     "output_type": "stream",
     "text": [
      "('apple', 'banana', 'Parachichi', 'orange', 'kiwi', 'melon', 'mango')\n"
     ]
    }
   ],
   "source": [
    "#updating tuples\n",
    "\"\"\"\n",
    "to modify a tuple \n",
    "change it to list \n",
    "select specific index item to modify\n",
    "then modify it\n",
    "lastly change it back \n",
    "to a tuple\n",
    "\"\"\"\n",
    "y = list(thisTuple)  \n",
    "y[2]=\"Parachichi\"\n",
    "thisTuple = tuple(y) \n",
    "print(thisTuple)\n"
   ]
  },
  {
   "cell_type": "code",
   "execution_count": 248,
   "metadata": {},
   "outputs": [
    {
     "name": "stdout",
     "output_type": "stream",
     "text": [
      "('apple', 'banana', 'Parachichi', 'orange', 'kiwi', 'melon', 'mango', 'sweetMelon')\n"
     ]
    }
   ],
   "source": [
    "#adding an item to a tuple\n",
    "\"\"\"\n",
    "the same as update\n",
    "but this time\n",
    "no selecting any item\n",
    "just append \n",
    "\"\"\"\n",
    "y = list(thisTuple)\n",
    "y.append(\"sweetMelon\")\n",
    "thisTuple=tuple(y)\n",
    "print(thisTuple)\n"
   ]
  },
  {
   "cell_type": "code",
   "execution_count": 249,
   "metadata": {},
   "outputs": [
    {
     "name": "stdout",
     "output_type": "stream",
     "text": [
      "('apple', 'banana', 'Parachichi', 'orange', 'kiwi', 'melon', 'mango', 'sweetMelon', 'Lemon')\n"
     ]
    }
   ],
   "source": [
    "#adding a tuple to a tuple \n",
    "y = (\"Lemon\",)\n",
    "thisTuple += y\n",
    "print(thisTuple)\n"
   ]
  },
  {
   "cell_type": "code",
   "execution_count": 250,
   "metadata": {},
   "outputs": [
    {
     "name": "stdout",
     "output_type": "stream",
     "text": [
      "['apple', 'banana', 'Parachichi', 'orange', 'kiwi', 'melon', 'mango', 'sweetMelon']\n"
     ]
    }
   ],
   "source": [
    "#remove item(s) from a tuple\n",
    "\"\"\"\n",
    "same as modify but\n",
    "this time \n",
    "remove an item by specifying the \n",
    "\"\"\"\n",
    "y=list(thisTuple)\n",
    "y.remove(\"Lemon\")\n",
    "thisTuple=y\n",
    "print(thisTuple)\n"
   ]
  },
  {
   "cell_type": "code",
   "execution_count": 251,
   "metadata": {},
   "outputs": [
    {
     "data": {
      "text/plain": [
       "'\\nIf NOT it is required to use an asterisk \\nto collect the remaining values\\nas a list \\n'"
      ]
     },
     "execution_count": 251,
     "metadata": {},
     "output_type": "execute_result"
    }
   ],
   "source": [
    "#unpacking tuples\n",
    "\"\"\"\n",
    "in python the number of \n",
    "variables must match the number \n",
    "of values in the tuple\n",
    "\"\"\"\n",
    "\n",
    "\"\"\"\n",
    "If NOT it is required to use an asterisk \n",
    "to collect the remaining values\n",
    "as a list \n",
    "\"\"\"\n",
    "\n"
   ]
  },
  {
   "cell_type": "code",
   "execution_count": 252,
   "metadata": {},
   "outputs": [
    {
     "name": "stdout",
     "output_type": "stream",
     "text": [
      "WaterMelon\n",
      "Orange\n",
      "Ovacado\n"
     ]
    }
   ],
   "source": [
    "#when variables and values match in the tuple\n",
    "fruits = (\"WaterMelon\",\"Orange\",\"Ovacado\")\n",
    "(x,y,z)=fruits\n",
    "print(x)\n",
    "print(y)\n",
    "print(z)\n"
   ]
  },
  {
   "cell_type": "code",
   "execution_count": 253,
   "metadata": {},
   "outputs": [
    {
     "name": "stdout",
     "output_type": "stream",
     "text": [
      "WaterMelon\n",
      "Orange\n",
      "['Ovacado', 'Banana', 'Fig', 'Berry', 'Grapes']\n"
     ]
    }
   ],
   "source": [
    "#when values exceed variables in the tuple\n",
    "fruits = (\"WaterMelon\",\"Orange\",\"Ovacado\",\"Banana\",\"Fig\",\"Berry\",\"Grapes\")\n",
    "(x,y,*z)=fruits#the asterick can stay with any variable and provides respective list \n",
    "print(x)\n",
    "print(y)\n",
    "print(z)\n"
   ]
  },
  {
   "cell_type": "code",
   "execution_count": 254,
   "metadata": {},
   "outputs": [
    {
     "name": "stdout",
     "output_type": "stream",
     "text": [
      "\n",
      "\n",
      "LOOP  TUPLES\n",
      "2\n",
      "3\n",
      "4\n",
      "5\n",
      "6\n",
      "7\n",
      "8\n",
      "9\n",
      "10\n",
      "1\n",
      "\n",
      "\n",
      "RANGE TUPLES \n",
      "2\n",
      "3\n",
      "4\n",
      "5\n",
      "6\n",
      "7\n",
      "8\n",
      "9\n",
      "10\n",
      "1\n",
      "\n",
      "\n",
      "WHILE LOOP\n"
     ]
    }
   ],
   "source": [
    "#LOOP TUPLES\n",
    "#iterating through items using FOR LOOP\n",
    "print(\"\\n\")\n",
    "thisTuple = (2,3,4,5,6,7,8,9,10,1)   \n",
    "print(\"LOOP  TUPLES\")\n",
    "for x in thisTuple:\n",
    "   print(x)#displaying all tuple items\n",
    "\n",
    "print(\"\\n\")\n",
    "print(\"RANGE TUPLES \")  \n",
    "for i in range(len(thisTuple)):\n",
    "   print(thisTuple[i])#range is used to refer an item from its respective index\n",
    "\n",
    "print(\"\\n\")\n",
    "print(\"WHILE LOOP\")\n"
   ]
  },
  {
   "cell_type": "code",
   "execution_count": 255,
   "metadata": {},
   "outputs": [
    {
     "name": "stdout",
     "output_type": "stream",
     "text": [
      "1\n",
      "2\n",
      "3\n",
      "4\n",
      "5\n",
      "6\n",
      "7\n",
      "8\n",
      "9\n",
      "10\n"
     ]
    }
   ],
   "source": [
    "#we are still using the above tuple\n",
    "i=0\n",
    "while i < len(thisTuple):\n",
    "   i=i+1\n",
    "   print(i)\n"
   ]
  },
  {
   "cell_type": "code",
   "execution_count": 256,
   "metadata": {},
   "outputs": [
    {
     "name": "stdout",
     "output_type": "stream",
     "text": [
      "\n",
      "\n",
      "JOINING TUPLES\n",
      "(10, 11, 12, 13, 14, 15)\n"
     ]
    }
   ],
   "source": [
    "print(\"\\n\")\n",
    "#joining tuples\n",
    "print(\"JOINING TUPLES\")\n",
    "tuple1 = (10,11,12)\n",
    "tuple2 = (13,14,15)\n",
    "\n",
    "tuple3 = tuple1 + tuple2\n",
    "print(tuple3)\n"
   ]
  },
  {
   "cell_type": "code",
   "execution_count": 257,
   "metadata": {},
   "outputs": [
    {
     "name": "stdout",
     "output_type": "stream",
     "text": [
      "\n",
      "\n",
      "MULTIPLY TUPLES\n",
      "(10, 11, 12, 13, 14, 15, 10, 11, 12, 13, 14, 15)\n"
     ]
    }
   ],
   "source": [
    "print(\"\\n\")\n",
    "print(\"MULTIPLY TUPLES\")#does not execute the items value but deal with number of repeatitions of the tuples\n",
    "myTuple = tuple3 * 2#the items will be written twice\n",
    "print(myTuple)\n"
   ]
  },
  {
   "cell_type": "code",
   "execution_count": 258,
   "metadata": {},
   "outputs": [
    {
     "name": "stdout",
     "output_type": "stream",
     "text": [
      "TUPLE METHODS\n",
      "COUNT\n",
      "2\n",
      "INDEX\n",
      "3\n"
     ]
    }
   ],
   "source": [
    "#TUPLE METHODS\n",
    "print(\"TUPLE METHODS\")\n",
    "print(\"COUNT\")#returns the number of times an item appears in the tuple\n",
    "x = myTuple.count(13)\n",
    "print(x)\n",
    "print(\"INDEX\")#returns the index of an item in the tuple\n",
    "x=myTuple.index(13)\n",
    "print(x)\n"
   ]
  },
  {
   "cell_type": "code",
   "execution_count": 259,
   "metadata": {},
   "outputs": [
    {
     "name": "stdout",
     "output_type": "stream",
     "text": [
      "\n",
      "\n",
      "SET\n",
      "{'Math', 'Spanish', 'Kiswahili', 'English', 'German'}\n"
     ]
    }
   ],
   "source": [
    "#SETS\n",
    "print(\"\\n\")\n",
    "print(\"SET\")#stores multiple items in a single variable\n",
    "mySet = {\"Math\",\"Kiswahili\",\"Spanish\",\"English\",\"German\",\"German\"}\n",
    "#sets are written with curly brackets\n",
    "#Unordered meaning we are not certain \n",
    "#what order the items will appear\n",
    "#unchangeable\n",
    "#No duplicates, if occurs it will be ignored\n",
    "print(mySet)\n"
   ]
  },
  {
   "cell_type": "code",
   "execution_count": 260,
   "metadata": {},
   "outputs": [
    {
     "name": "stdout",
     "output_type": "stream",
     "text": [
      "{True, 2, 'cherry', 'banana', 'apple'}\n"
     ]
    }
   ],
   "source": [
    "#True and 1 are treated as same value\n",
    "thisSet= {\"apple\",\"banana\",\"cherry\",True,1,2}\n",
    "print(thisSet)\n"
   ]
  },
  {
   "cell_type": "code",
   "execution_count": 261,
   "metadata": {},
   "outputs": [
    {
     "name": "stdout",
     "output_type": "stream",
     "text": [
      "{False, 4}\n"
     ]
    }
   ],
   "source": [
    "#what about False and 0\n",
    "thisSet = {False,0,4}\n",
    "print(thisSet)#yes False and 0 are same thing in sets"
   ]
  },
  {
   "cell_type": "code",
   "execution_count": 262,
   "metadata": {},
   "outputs": [
    {
     "name": "stdout",
     "output_type": "stream",
     "text": [
      "2\n"
     ]
    }
   ],
   "source": [
    "#length of set\n",
    "print(len(thisSet))\n"
   ]
  },
  {
   "cell_type": "code",
   "execution_count": 263,
   "metadata": {},
   "outputs": [
    {
     "name": "stdout",
     "output_type": "stream",
     "text": [
      "<class 'set'>\n"
     ]
    }
   ],
   "source": [
    "#obtain data type of values in a tuple\n",
    "print(type(thisSet))\n"
   ]
  },
  {
   "cell_type": "code",
   "execution_count": 264,
   "metadata": {},
   "outputs": [
    {
     "name": "stdout",
     "output_type": "stream",
     "text": [
      "{'cherry', 'banana', 'apple'}\n"
     ]
    }
   ],
   "source": [
    "#set constructor\n",
    "thisSet = set((\"apple\",\"banana\",\"cherry\"))\n",
    "print(thisSet)\n"
   ]
  },
  {
   "cell_type": "code",
   "execution_count": 265,
   "metadata": {},
   "outputs": [
    {
     "name": "stdout",
     "output_type": "stream",
     "text": [
      "cherry\n",
      "banana\n",
      "apple\n"
     ]
    }
   ],
   "source": [
    "#accessing set items\n",
    "#you cannot just refer to an index or a key\n",
    "#loops are convinient or use an \"in\" keyword\n",
    "for x in thisSet:#using for loop\n",
    "   print(x)\n"
   ]
  },
  {
   "cell_type": "code",
   "execution_count": 266,
   "metadata": {},
   "outputs": [
    {
     "name": "stdout",
     "output_type": "stream",
     "text": [
      "True\n"
     ]
    }
   ],
   "source": [
    "#using in keyword\n",
    "print(\"cherry\" in thisSet)#returns boolean  \n",
    "#you can only add items to a set but not be able to change them"
   ]
  },
  {
   "cell_type": "code",
   "execution_count": 267,
   "metadata": {},
   "outputs": [
    {
     "name": "stdout",
     "output_type": "stream",
     "text": [
      "{'crdb', 'nbc', 'nmb'}\n"
     ]
    }
   ],
   "source": [
    "#Adding items to a set\n",
    "#use the add method\n",
    "thatSet = {\"nmb\",\"crdb\",\"nbc\"}\n",
    "print(thatSet)"
   ]
  },
  {
   "cell_type": "code",
   "execution_count": 268,
   "metadata": {},
   "outputs": [
    {
     "name": "stdout",
     "output_type": "stream",
     "text": [
      "\n",
      "\n",
      "ADDING AN ITEM(s) TO AN EXISTING SET\n",
      "{'crdb', 'stanbic', 'nbc', 'nmb'}\n"
     ]
    }
   ],
   "source": [
    "print(\"\\n\")\n",
    "print(\"ADDING AN ITEM(s) TO AN EXISTING SET\")\n",
    "thatSet.add(\"stanbic\")#Adding item stanbic\n",
    "print(thatSet)\n"
   ]
  },
  {
   "cell_type": "code",
   "execution_count": 269,
   "metadata": {},
   "outputs": [
    {
     "name": "stdout",
     "output_type": "stream",
     "text": [
      "\n",
      "\n",
      "ADDING SET(S) TO AN EXISTING SET\n"
     ]
    }
   ],
   "source": [
    "print(\"\\n\")\n",
    "print(\"ADDING SET(S) TO AN EXISTING SET\")\n",
    "#adding sets\n",
    "accounts = {\"savings\",\"checking\"}\n"
   ]
  },
  {
   "cell_type": "code",
   "execution_count": 270,
   "metadata": {},
   "outputs": [
    {
     "name": "stdout",
     "output_type": "stream",
     "text": [
      "{'checking', 'stanbic', 'nbc', 'nmb', 'savings', 'crdb'}\n"
     ]
    }
   ],
   "source": [
    "thatSet.update(accounts)\n",
    "print(thatSet)\n"
   ]
  },
  {
   "cell_type": "code",
   "execution_count": 271,
   "metadata": {},
   "outputs": [
    {
     "name": "stdout",
     "output_type": "stream",
     "text": [
      "\n",
      "\n",
      "REMOVING AN ITEM OF THE SET\n",
      "{'checking', 'stanbic', 'nmb', 'savings', 'crdb'}\n"
     ]
    }
   ],
   "source": [
    "print(\"\\n\")\n",
    "print(\"REMOVING AN ITEM OF THE SET\")\n",
    "thatSet.remove(\"nbc\")\n",
    "print(thatSet)"
   ]
  },
  {
   "cell_type": "code",
   "execution_count": 272,
   "metadata": {},
   "outputs": [
    {
     "name": "stdout",
     "output_type": "stream",
     "text": [
      "{'checking', 'stanbic', 'nmb', 'savings'}\n"
     ]
    }
   ],
   "source": [
    "#or use the \"discard\" word \n",
    "thatSet.discard(\"crdb\")\n",
    "print(thatSet)\n"
   ]
  },
  {
   "cell_type": "code",
   "execution_count": 273,
   "metadata": {},
   "outputs": [
    {
     "name": "stdout",
     "output_type": "stream",
     "text": [
      "{'stanbic', 'nmb', 'savings'}\n"
     ]
    }
   ],
   "source": [
    "#using pop() provides uncertainty which item is removed\n",
    "thatSet.pop()\n",
    "print(thatSet)\n"
   ]
  },
  {
   "cell_type": "code",
   "execution_count": 274,
   "metadata": {},
   "outputs": [
    {
     "name": "stdout",
     "output_type": "stream",
     "text": [
      "set()\n"
     ]
    }
   ],
   "source": [
    "#clear() empties the whole set\n",
    "thisSet.clear()\n",
    "print(thisSet)"
   ]
  },
  {
   "cell_type": "code",
   "execution_count": 275,
   "metadata": {},
   "outputs": [],
   "source": [
    "#Deleting the set using del keyword\n",
    "del thatSet"
   ]
  },
  {
   "cell_type": "code",
   "execution_count": 276,
   "metadata": {},
   "outputs": [
    {
     "name": "stdout",
     "output_type": "stream",
     "text": [
      "\n",
      "\n",
      "JOIN TWO SETS\n",
      "{1, 2, 3, 'c', 'a', 'b'}\n"
     ]
    }
   ],
   "source": [
    "print(\"\\n\")\n",
    "#JOIN TWO SETS\n",
    "print(\"JOIN TWO SETS\")\n",
    "#union() or update()\n",
    "set1 = {\"a\",\"b\",\"c\"}\n",
    "set2 = {1,2,3}\n",
    "\n",
    "set3 = set1.union(set2)#using union()\n",
    "print(set3)"
   ]
  },
  {
   "cell_type": "code",
   "execution_count": 277,
   "metadata": {},
   "outputs": [
    {
     "name": "stdout",
     "output_type": "stream",
     "text": [
      "{1, 2, 3, 'c', 'a', 'b'}\n"
     ]
    }
   ],
   "source": [
    "#using update()\n",
    "set1.update(set2)\n",
    "print(set1)\n"
   ]
  },
  {
   "cell_type": "code",
   "execution_count": 278,
   "metadata": {},
   "outputs": [
    {
     "name": "stdout",
     "output_type": "stream",
     "text": [
      "\n",
      "\n",
      "INTERSECTION OF SETS\n",
      "set()\n"
     ]
    }
   ],
   "source": [
    "print(\"\\n\")\n",
    "print(\"INTERSECTION OF SETS\")\n",
    "#intersecting two sets\n",
    "#intersection_update() returns common item(s) of the two sets\n",
    "x={1,2,4}\n",
    "y={\"google\",\"microsoft\",\"apple\"}\n",
    "x.intersection_update(y)\n",
    "print(x)#provides nothing since there is no common item\n"
   ]
  },
  {
   "cell_type": "code",
   "execution_count": 279,
   "metadata": {},
   "outputs": [
    {
     "name": "stdout",
     "output_type": "stream",
     "text": [
      "{'google'}\n",
      "\n",
      "\n",
      "SYMMETRIC DIFFERENCE\n",
      "{1, 2, 4, 'apple', 'microsoft'}\n"
     ]
    }
   ],
   "source": [
    "x={1,2,4,\"google\"}\n",
    "y={\"google\",\"microsoft\",\"apple\"}\n",
    "x.intersection_update(y)#returns 'google' since it is found in both sets\n",
    "print(x)\n",
    "\n",
    "print(\"\\n\")\n",
    "print(\"SYMMETRIC DIFFERENCE\")\n",
    "x={1,2,4,\"google\"}\n",
    "y={\"google\",\"microsoft\",\"apple\"}\n",
    "x.symmetric_difference_update(y)\n",
    "print(x)\n"
   ]
  },
  {
   "cell_type": "code",
   "execution_count": 280,
   "metadata": {},
   "outputs": [
    {
     "name": "stdout",
     "output_type": "stream",
     "text": [
      "\n",
      "\n",
      "DIFFERENCE\n",
      "{1, 2, 4, 'google'}\n"
     ]
    }
   ],
   "source": [
    "#SET METHODS\n",
    "#difference\n",
    "print(\"\\n\")\n",
    "print(\"DIFFERENCE\")\n",
    "x={1,2,4,\"google\"}\n",
    "y={\"microsoft\",\"apple\"}\n",
    "x.difference(y)#returns only values of the set x but not set y \n",
    "print(x)\n"
   ]
  },
  {
   "cell_type": "code",
   "execution_count": 281,
   "metadata": {},
   "outputs": [
    {
     "name": "stdout",
     "output_type": "stream",
     "text": [
      "\n",
      "\n",
      "DIFFERENCE UPDATE\n",
      "{1, 2, 4}\n"
     ]
    }
   ],
   "source": [
    "print(\"\\n\")\n",
    "print(\"DIFFERENCE UPDATE\")\n",
    "x={1,2,4,\"google\"}\n",
    "y={\"google\",\"microsoft\",\"apple\"}\n",
    "x.difference_update(y)#removes items in this set that are included in the other set\n",
    "print(x)\n"
   ]
  },
  {
   "cell_type": "code",
   "execution_count": 282,
   "metadata": {},
   "outputs": [
    {
     "name": "stdout",
     "output_type": "stream",
     "text": [
      "\n",
      "\n",
      "DICTIONARY\n",
      "{'brand': 'Suzuki', 'model': 'Vitara', 'Year': 2005}\n"
     ]
    }
   ],
   "source": [
    "print(\"\\n\")\n",
    "#DICTIONARY\n",
    "print(\"DICTIONARY\")\n",
    "thisDict = {\n",
    "   #key : value\n",
    "   \"brand\" : \"Suzuki\",\n",
    "   \"model\" : \"Vitara\",\n",
    "   \"Year\"  : 2005\n",
    "      }\n",
    "print(thisDict)\n"
   ]
  },
  {
   "cell_type": "code",
   "execution_count": 283,
   "metadata": {},
   "outputs": [
    {
     "name": "stdout",
     "output_type": "stream",
     "text": [
      "\n",
      "\n",
      "accessing dictionary\n",
      "Suzuki\n"
     ]
    }
   ],
   "source": [
    "print(\"\\n\")\n",
    "print(\"accessing dictionary\")\n",
    "x=thisDict[\"brand\"]# always refer to the key name \n",
    "print(x)"
   ]
  },
  {
   "cell_type": "code",
   "execution_count": 284,
   "metadata": {},
   "outputs": [
    {
     "name": "stdout",
     "output_type": "stream",
     "text": [
      "Vitara\n"
     ]
    }
   ],
   "source": [
    "#using get() to access items\n",
    "x=thisDict.get(\"model\")\n",
    "print(x)"
   ]
  },
  {
   "cell_type": "code",
   "execution_count": 285,
   "metadata": {},
   "outputs": [
    {
     "name": "stdout",
     "output_type": "stream",
     "text": [
      "Suzuki JIMMY\n"
     ]
    }
   ],
   "source": [
    "#change values\n",
    "thisDict[\"model\"] = \"JIMMY\"\n",
    "print(thisDict[\"brand\"],thisDict[\"model\"])"
   ]
  },
  {
   "cell_type": "code",
   "execution_count": 286,
   "metadata": {},
   "outputs": [
    {
     "name": "stdout",
     "output_type": "stream",
     "text": [
      "brand\n",
      "model\n",
      "Year\n"
     ]
    }
   ],
   "source": [
    "#loop through a dictionary \n",
    "for x in thisDict:\n",
    "   print(x)"
   ]
  },
  {
   "cell_type": "code",
   "execution_count": 287,
   "metadata": {},
   "outputs": [
    {
     "name": "stdout",
     "output_type": "stream",
     "text": [
      "Suzuki\n",
      "JIMMY\n",
      "2005\n"
     ]
    }
   ],
   "source": [
    "#obtaining the values of the dictionary using values()\n",
    "for x in thisDict.values():\n",
    "   print(x)"
   ]
  },
  {
   "cell_type": "code",
   "execution_count": 288,
   "metadata": {},
   "outputs": [
    {
     "name": "stdout",
     "output_type": "stream",
     "text": [
      "brand Suzuki\n",
      "model JIMMY\n",
      "Year 2005\n"
     ]
    }
   ],
   "source": [
    "#to loop through both keys and values items()\n",
    "for x,y in thisDict.items():\n",
    "   print(x,y)"
   ]
  },
  {
   "cell_type": "code",
   "execution_count": 289,
   "metadata": {},
   "outputs": [],
   "source": [
    "#adding a new key with its respective value\n",
    "thisDict[\"colour\"]=\"red\""
   ]
  },
  {
   "cell_type": "code",
   "execution_count": 290,
   "metadata": {},
   "outputs": [
    {
     "name": "stdout",
     "output_type": "stream",
     "text": [
      "{'brand': 'Suzuki', 'model': 'JIMMY', 'Year': 2005}\n"
     ]
    }
   ],
   "source": [
    "#removing items in a dictionary using a pop() function\n",
    "thisDict.pop(\"colour\")\n",
    "print(thisDict)"
   ]
  },
  {
   "cell_type": "code",
   "execution_count": 291,
   "metadata": {},
   "outputs": [
    {
     "name": "stdout",
     "output_type": "stream",
     "text": [
      "3\n"
     ]
    }
   ],
   "source": [
    "#dictionary length\n",
    "print(len(thisDict))"
   ]
  },
  {
   "cell_type": "code",
   "execution_count": 292,
   "metadata": {},
   "outputs": [
    {
     "name": "stdout",
     "output_type": "stream",
     "text": [
      "<class 'dict'>\n"
     ]
    }
   ],
   "source": [
    "#checking data type  in dictionary\n",
    "print(type(thisDict)) "
   ]
  },
  {
   "cell_type": "code",
   "execution_count": 293,
   "metadata": {},
   "outputs": [
    {
     "name": "stdout",
     "output_type": "stream",
     "text": [
      "{'brand': 'Toyota', 'model': 'GXR', 'Year': '2022'}\n"
     ]
    }
   ],
   "source": [
    "#dictionary constructor\n",
    "myDictionary = dict(brand=\"Toyota\",model=\"GXR\",Year=\"2022\")\n",
    "print(myDictionary)"
   ]
  },
  {
   "cell_type": "code",
   "execution_count": 294,
   "metadata": {},
   "outputs": [
    {
     "name": "stdout",
     "output_type": "stream",
     "text": [
      "dict_keys(['brand', 'model', 'Year'])\n",
      "yes, ' model' is one the keys in the myDictionary\n"
     ]
    }
   ],
   "source": [
    "#using keys() to obtain a list of all keys \n",
    "x = myDictionary.keys()\n",
    "print(x)\n",
    "\n",
    "if \"model\" in myDictionary:\n",
    "   print(\"yes, ' model' is one the keys in the myDictionary\")\n"
   ]
  }
 ],
 "metadata": {
  "kernelspec": {
   "display_name": "Python 3",
   "language": "python",
   "name": "python3"
  },
  "language_info": {
   "codemirror_mode": {
    "name": "ipython",
    "version": 3
   },
   "file_extension": ".py",
   "mimetype": "text/x-python",
   "name": "python",
   "nbconvert_exporter": "python",
   "pygments_lexer": "ipython3",
   "version": "3.11.3"
  },
  "orig_nbformat": 4
 },
 "nbformat": 4,
 "nbformat_minor": 2
}
